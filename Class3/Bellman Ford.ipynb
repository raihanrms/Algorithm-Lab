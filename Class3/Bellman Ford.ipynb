{
 "cells": [
  {
   "cell_type": "code",
   "execution_count": 14,
   "id": "20907ff1",
   "metadata": {},
   "outputs": [
    {
     "name": "stdout",
     "output_type": "stream",
     "text": [
      "Distance of Vertex from Source\n",
      "  A  :     6\n",
      "  B  :     3\n",
      "  C  :     4\n",
      "  D  :     2\n",
      "  E  :     0\n"
     ]
    }
   ],
   "source": [
    "#Initializing the Graph Class\n",
    "class Graph:\n",
    "    def __init__(self, vertices):\n",
    "        self.V = vertices   \n",
    "        self.graph = []     \n",
    "        self.nodes = []\n",
    "\n",
    "    def add_edge(self, s, d, w):\n",
    "        self.graph.append([s, d, w])\n",
    "    \n",
    "    def addNode(self,value):\n",
    "        self.nodes.append(value)\n",
    "\n",
    "    def print_solution(self, dist):\n",
    "        print(\"Distance of Vertex from Source\")\n",
    "        for key, value in dist.items():\n",
    "            print('  ' + key, ' :    ', value)\n",
    "\n",
    "    def bellmanFord(self, src):\n",
    "        dist = {i : float(\"Inf\") for i in self.nodes}\n",
    "        dist[src] = 0\n",
    "\n",
    "        for temp in range(self.V-1):\n",
    "            for s, d, w in self.graph:\n",
    "                if dist[s] != float(\"Inf\") and dist[s] + w < dist[d]:\n",
    "                    dist[d] = dist[s] + w\n",
    "\n",
    "        for s, d, w in self.graph:\n",
    "            if dist[s] != float(\"Inf\") and dist[s] + w < dist[d]:\n",
    "                print(\"Graph contains negative cycle\")\n",
    "                return\n",
    "\n",
    "\n",
    "        self.print_solution(dist)\n",
    "\n",
    "g = Graph(5)\n",
    "g.addNode(\"A\")\n",
    "g.addNode(\"B\")\n",
    "g.addNode(\"C\")\n",
    "g.addNode(\"D\")\n",
    "g.addNode(\"E\")\n",
    "g.add_edge(\"A\", \"C\", 6)\n",
    "g.add_edge(\"A\", \"D\", 6)\n",
    "g.add_edge(\"B\", \"A\", 3)\n",
    "g.add_edge(\"C\", \"D\", 1)\n",
    "g.add_edge(\"D\", \"C\", 2)\n",
    "g.add_edge(\"D\", \"B\", 1)\n",
    "g.add_edge(\"E\", \"B\", 4)\n",
    "g.add_edge(\"E\", \"D\", 2)\n",
    "g.bellmanFord(\"E\")"
   ]
  },
  {
   "cell_type": "code",
   "execution_count": 12,
   "id": "ad139e50",
   "metadata": {},
   "outputs": [],
   "source": []
  },
  {
   "cell_type": "code",
   "execution_count": null,
   "id": "0acd0cba",
   "metadata": {},
   "outputs": [],
   "source": []
  }
 ],
 "metadata": {
  "kernelspec": {
   "display_name": "Python 3 (ipykernel)",
   "language": "python",
   "name": "python3"
  },
  "language_info": {
   "codemirror_mode": {
    "name": "ipython",
    "version": 3
   },
   "file_extension": ".py",
   "mimetype": "text/x-python",
   "name": "python",
   "nbconvert_exporter": "python",
   "pygments_lexer": "ipython3",
   "version": "3.10.0"
  }
 },
 "nbformat": 4,
 "nbformat_minor": 5
}
